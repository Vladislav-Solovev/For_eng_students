{
 "cells": [
  {
   "cell_type": "code",
   "execution_count": 49,
   "id": "233e5381",
   "metadata": {
    "scrolled": false
   },
   "outputs": [
    {
     "name": "stdout",
     "output_type": "stream",
     "text": [
      "Матрица А\n",
      " [[-128.   64.    0.    0.    0.    0.    0.]\n",
      " [  64. -128.   64.    0.    0.    0.    0.]\n",
      " [   0.   64. -128.   64.    0.    0.    0.]\n",
      " [   0.    0.   64. -128.   64.    0.    0.]\n",
      " [   0.    0.    0.   64. -128.   64.    0.]\n",
      " [   0.    0.    0.    0.   64. -128.   64.]\n",
      " [   0.    0.    0.    0.    0.   64. -128.]]\n",
      "Матрица собственных векторов\n",
      " [[-0.191 -0.354  0.462 -0.5   -0.191  0.354  0.462]\n",
      " [ 0.354  0.5   -0.354  0.    -0.354  0.5    0.354]\n",
      " [-0.462 -0.354 -0.191  0.5   -0.462  0.354 -0.191]\n",
      " [ 0.5    0.     0.5   -0.    -0.5    0.    -0.5  ]\n",
      " [-0.462  0.354 -0.191 -0.5   -0.462 -0.354 -0.191]\n",
      " [ 0.354 -0.5   -0.354 -0.    -0.354 -0.5    0.354]\n",
      " [-0.191  0.354  0.462  0.5   -0.191 -0.354  0.462]]\n",
      "Собственные значения\n",
      " [-246.257 -218.51  -176.983 -128.      -9.743  -37.49   -79.017]\n",
      "Матрица обратная к матрице Т\n",
      " [[-0.191  0.354 -0.462  0.5   -0.462  0.354 -0.191]\n",
      " [-0.354  0.5   -0.354  0.     0.354 -0.5    0.354]\n",
      " [ 0.462 -0.354 -0.191  0.5   -0.191 -0.354  0.462]\n",
      " [-0.5   -0.     0.5   -0.    -0.5   -0.     0.5  ]\n",
      " [-0.191 -0.354 -0.462 -0.5   -0.462 -0.354 -0.191]\n",
      " [ 0.354  0.5    0.354 -0.    -0.354 -0.5   -0.354]\n",
      " [ 0.462  0.354 -0.191 -0.5   -0.191  0.354  0.462]]\n",
      "Массив координат точек табуляции по времени\n",
      " [0.0, 0.15, 0.3, 0.44999999999999996, 0.6, 0.75, 0.8999999999999999, 1.05, 1.2, 1.3499999999999999]\n",
      "Массив значений температуры в точках табуляции\n",
      " [[ 3.     7.406 10.875 13.406 15.    15.656 15.375 14.156 12.   ]\n",
      " [ 3.     4.812  6.519  8.033  9.295 10.283 11.019 11.562 12.   ]\n",
      " [ 3.     4.284  5.544  6.759  7.916  9.009 10.044 11.034 12.   ]\n",
      " [ 3.     4.162  5.318  6.464  7.597  8.714  9.818 10.912 12.   ]\n",
      " [ 3.     4.134  5.266  6.396  7.522  8.646  9.766 10.884 12.   ]\n",
      " [ 3.     4.127  5.254  6.38   7.505  8.63   9.754 10.877 12.   ]\n",
      " [ 3.     4.125  5.251  6.376  7.501  8.626  9.751 10.875 12.   ]\n",
      " [ 3.     4.125  5.25   6.375  7.5    8.625  9.75  10.875 12.   ]\n",
      " [ 3.     4.125  5.25   6.375  7.5    8.625  9.75  10.875 12.   ]\n",
      " [ 3.     4.125  5.25   6.375  7.5    8.625  9.75  10.875 12.   ]]\n"
     ]
    },
    {
     "data": {
      "text/plain": [
       "<matplotlib.legend.Legend at 0x196300b0ca0>"
      ]
     },
     "execution_count": 11,
     "metadata": {},
     "output_type": "execute_result"
    },
    {
     "data": {
      "image/png": "[encoded data removed]",
      "text/plain": [
       "<Figure size 432x288 with 1 Axes>"
      ]
     },
     "metadata": {},
     "output_type": "display_data"
    }
   ],
   "source": [
    "import numpy as np\n",
    "import matplotlib.pyplot as plt\n",
    "np.set_printoptions(precision=3, suppress=True)\n",
    "\n",
    "g = 3\n",
    "s = 12\n",
    "n = 8\n",
    "nt = 10\n",
    "m = n-1\n",
    "alpha = 1\n",
    "h = 1/n\n",
    "tau = 1.5/nt\n",
    "c = alpha / h**2\n",
    "E = np.eye(m)\n",
    "a1 = np.ones((m-1,))\n",
    "A = -2*E + np.diag(a1,1) + np.diag(a1,-1)\n",
    "A = c*A\n",
    "print('Матрица А\\n', A)\n",
    "\n",
    "F = np.zeros((m, 1))\n",
    "F[0] = g\n",
    "F[m-1] = s\n",
    "F = c*F\n",
    "res = np.empty((nt, n+1))\n",
    "res[:nt, 0] = g\n",
    "res[:nt, n] = s\n",
    "\n",
    "x = np.arange(0, 1+h, h)\n",
    "psi = g + (g+3*s)*x[1:-1] - 2*(g+s)*x[1:-1]**2\n",
    "J, T = np.linalg.eig(A)\n",
    "print('Матрица собственных векторов\\n',T)\n",
    "print('Собственные значения\\n', J)\n",
    "\n",
    "T_inv = np.linalg.inv(T)\n",
    "print('Матрица обратная к матрице Т\\n', T_inv)\n",
    "t_res = []\n",
    "for k in range(nt):\n",
    "    t = tau*k\n",
    "    ETJ = np.diag(np.exp(t*J))\n",
    "    EAt = T@ETJ@T_inv\n",
    "    u = EAt@psi[np.newaxis, :].T - np.linalg.inv(A)@(E-EAt)@F\n",
    "    res[k,1:-1] = u[:,0]\n",
    "    t_res.append(t)\n",
    "print('Массив координат точек табуляции по времени\\n', t_res)\n",
    "print('Массив значений температуры в точках табуляции\\n', res)\n",
    "\n",
    "plt.plot(x, res[0], label='Значения в начальный момент времени')\n",
    "plt.plot(x, res[1], label=f'Значения в момент {tau} с')\n",
    "plt.plot(x, res[-1], label='Значения через 1.5 с')\n",
    "plt.legend()"
   ]
  },
  {
   "cell_type": "code",
   "execution_count": null,
   "id": "90deb031",
   "metadata": {},
   "outputs": [],
   "source": []
  }
 ],
 "metadata": {
  "kernelspec": {
   "display_name": "Python 3 (ipykernel)",
   "language": "python",
   "name": "python3"
  },
  "language_info": {
   "codemirror_mode": {
    "name": "ipython",
    "version": 3
   },
   "file_extension": ".py",
   "mimetype": "text/x-python",
   "name": "python",
   "nbconvert_exporter": "python",
   "pygments_lexer": "ipython3",
   "version": "3.8.13"
  }
 },
 "nbformat": 4,
 "nbformat_minor": 5
}
