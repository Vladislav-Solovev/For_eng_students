{
 "cells": [
  {
   "cell_type": "code",
   "execution_count": 6,
   "id": "ffcba86d",
   "metadata": {},
   "outputs": [],
   "source": [
    "import numpy as np\n",
    "from sympy import Matrix"
   ]
  },
  {
   "cell_type": "code",
   "execution_count": 1,
   "id": "93fd7cb6",
   "metadata": {},
   "outputs": [
    {
     "name": "stdout",
     "output_type": "stream",
     "text": [
      "s=12\n",
      "g=3\n"
     ]
    }
   ],
   "source": [
    "s = int(input('s='))\n",
    "g = int(input('g='))\n",
    "p = 2 * (s+g)\n",
    "m = -1*p + s"
   ]
  },
  {
   "cell_type": "code",
   "execution_count": 11,
   "id": "e979d64b",
   "metadata": {},
   "outputs": [
    {
     "name": "stdout",
     "output_type": "stream",
     "text": [
      "Матрица А\n",
      "[[ 5. -3.  4.]\n",
      " [-3. 12. -3.]\n",
      " [ 4. -3.  5.]]\n"
     ]
    }
   ],
   "source": [
    "A = np.array(\n",
    "    [[p, m, 2*s],\n",
    "     [m, 2*p + s, m],\n",
    "     [2*s, m, p]]\n",
    ") / 6\n",
    "print(f'Матрица А\\n{A}')"
   ]
  },
  {
   "cell_type": "code",
   "execution_count": 37,
   "id": "017164ef",
   "metadata": {},
   "outputs": [
    {
     "name": "stdout",
     "output_type": "stream",
     "text": [
      "Функция от матрицы А\n",
      "[[ 4.55709093 -1.31908562  3.30095635]\n",
      " [-1.31908562  9.17713289 -1.31908562]\n",
      " [ 3.30095635 -1.31908562  4.55709093]]\n"
     ]
    }
   ],
   "source": [
    "from scipy.linalg import fractional_matrix_power, logm, cosm\n",
    "from numpy.linalg import matrix_power\n",
    "\n",
    "# Функция от матрицы A\n",
    "def f(A):\n",
    "    return fractional_matrix_power(A, 3/5) + logm(matrix_power(A, 2) + matrix_power(cosm(A), 2))\n",
    "\n",
    "print(f'Функция от матрицы А\\n{f(A)}')"
   ]
  },
  {
   "cell_type": "code",
   "execution_count": 38,
   "id": "3bd0b074",
   "metadata": {},
   "outputs": [
    {
     "data": {
      "text/latex": [
       "$\\displaystyle \\left[\\begin{matrix}-1.0 & 1.0 & 1.0\\\\0 & 1.0 & -2.0\\\\1.0 & 1.0 & 1.0\\end{matrix}\\right]$"
      ],
      "text/plain": [
       "Matrix([\n",
       "[-1.0, 1.0,  1.0],\n",
       "[   0, 1.0, -2.0],\n",
       "[ 1.0, 1.0,  1.0]])"
      ]
     },
     "metadata": {},
     "output_type": "display_data"
    },
    {
     "data": {
      "text/latex": [
       "$\\displaystyle \\left[\\begin{matrix}1.0 & 0 & 0\\\\0 & 6.0 & 0\\\\0 & 0 & 15.0\\end{matrix}\\right]$"
      ],
      "text/plain": [
       "Matrix([\n",
       "[1.0,   0,    0],\n",
       "[  0, 6.0,    0],\n",
       "[  0,   0, 15.0]])"
      ]
     },
     "metadata": {},
     "output_type": "display_data"
    },
    {
     "name": "stdout",
     "output_type": "stream",
     "text": [
      "Матрица собственных векторов T\n",
      "Matrix([[-1.00000000000000, 1.00000000000000, 1.00000000000000], [0, 1.00000000000000, -2.00000000000000], [1.00000000000000, 1.00000000000000, 1.00000000000000]])\n"
     ]
    }
   ],
   "source": [
    "T, J = Matrix(A).jordan_form()\n",
    "display(T, J)"
   ]
  },
  {
   "cell_type": "code",
   "execution_count": 39,
   "id": "63dfd93d",
   "metadata": {},
   "outputs": [
    {
     "name": "stdout",
     "output_type": "stream",
     "text": [
      "Матрица собственных векторов T\n",
      "[[-1.  1.  1.]\n",
      " [ 0.  1. -2.]\n",
      " [ 1.  1.  1.]]\n",
      "Матрица Жордана J\n",
      "[[ 1.  0.  0.]\n",
      " [ 0.  6.  0.]\n",
      " [ 0.  0. 15.]]\n"
     ]
    }
   ],
   "source": [
    "J_, T_ = np.array(J, dtype='float64'), np.array(T, dtype='float64')\n",
    "print(f'Матрица собственных векторов T\\n{T_}')\n",
    "print(f'Матрица Жордана J\\n{J_}')"
   ]
  },
  {
   "cell_type": "code",
   "execution_count": 41,
   "id": "63504482",
   "metadata": {},
   "outputs": [
    {
     "name": "stdout",
     "output_type": "stream",
     "text": [
      "Функция от матрицы А\n",
      "[[ 4.55709093 -1.31908562  3.30095635]\n",
      " [-1.31908562  9.17713289 -1.31908562]\n",
      " [ 3.30095635 -1.31908562  4.55709093]]\n"
     ]
    }
   ],
   "source": [
    "fa = T_@f(J_)@np.linalg.inv(T_)\n",
    "print(f'Функция от матрицы А\\n{fa}')"
   ]
  },
  {
   "cell_type": "code",
   "execution_count": null,
   "id": "4706bc7b",
   "metadata": {},
   "outputs": [],
   "source": []
  }
 ],
 "metadata": {
  "kernelspec": {
   "display_name": "Python 3 (ipykernel)",
   "language": "python",
   "name": "python3"
  },
  "language_info": {
   "codemirror_mode": {
    "name": "ipython",
    "version": 3
   },
   "file_extension": ".py",
   "mimetype": "text/x-python",
   "name": "python",
   "nbconvert_exporter": "python",
   "pygments_lexer": "ipython3",
   "version": "3.8.13"
  }
 },
 "nbformat": 4,
 "nbformat_minor": 5
}
